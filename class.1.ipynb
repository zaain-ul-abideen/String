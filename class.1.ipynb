{
 "cells": [
  {
   "cell_type": "markdown",
   "metadata": {},
   "source": [
    "1st class of python\n"
   ]
  },
  {
   "cell_type": "code",
   "execution_count": 7,
   "metadata": {},
   "outputs": [
    {
     "name": "stdout",
     "output_type": "stream",
     "text": [
      "Zain Ul Abideen\n",
      "<class 'str'>\n",
      "1937101569584\n"
     ]
    }
   ],
   "source": [
    "name = \"Zain Ul Abideen\" \n",
    "print(name)\n",
    "print(type(name)) \n",
    "print(id(name))\n"
   ]
  },
  {
   "cell_type": "markdown",
   "metadata": {},
   "source": [
    "2nd Class of Python"
   ]
  },
  {
   "cell_type": "code",
   "execution_count": 8,
   "metadata": {},
   "outputs": [
    {
     "name": "stdout",
     "output_type": "stream",
     "text": [
      "Student ID card\n",
      "Student name:\n"
     ]
    }
   ],
   "source": [
    "#Type of string text\n",
    "# boundries\n",
    "'string text' \"string text\" '''string text''' \"\"\"string text\"\"\"\n",
    "name : str = \"Muhammad Zain\"\n",
    "fathername : str = \"Muhammad\"\n",
    "education : str = \"Photographer\"\n",
    "age : int = 18\n",
    "card : str = \"Student ID card\\nStudent name:\" \n",
    "print(card)"
   ]
  },
  {
   "cell_type": "markdown",
   "metadata": {},
   "source": [
    "Difine multiline string \"\"\"abc\"\"\" , ''' abc ''' "
   ]
  },
  {
   "cell_type": "code",
   "execution_count": 9,
   "metadata": {},
   "outputs": [
    {
     "name": "stdout",
     "output_type": "stream",
     "text": [
      "Student ID card \n",
      "Student name =\n",
      "fathername =\n",
      "education =\n",
      "age =\n",
      "\n"
     ]
    }
   ],
   "source": [
    "studentname : str = \"Muhammad Zain\"\n",
    "fathername : str = \"Muhammad\"\n",
    "education : str = \"Photographer\"\n",
    "age : int = 18\n",
    "\n",
    "card : str = \"\"\"Student ID card \n",
    "Student name =\n",
    "fathername =\n",
    "education =\n",
    "age =\n",
    "\"\"\"\n",
    "print(card)"
   ]
  },
  {
   "cell_type": "markdown",
   "metadata": {},
   "source": [
    "using F-string "
   ]
  },
  {
   "cell_type": "code",
   "execution_count": 10,
   "metadata": {},
   "outputs": [
    {
     "name": "stdout",
     "output_type": "stream",
     "text": [
      "Student ID card \n",
      "Student name =Muhammad Zain\n",
      "fathername =Muhammad\n",
      "education =Photographer\n",
      "age =18\n",
      "\n"
     ]
    }
   ],
   "source": [
    "studentname : str = \"Muhammad Zain\"\n",
    "fathername : str = \"Muhammad\"\n",
    "education : str = \"Photographer\"\n",
    "age : int = 18\n",
    "\n",
    "card : str = f\"\"\"Student ID card \n",
    "Student name ={studentname}\n",
    "fathername ={fathername}\n",
    "education ={education}\n",
    "age ={age}\n",
    "\"\"\"\n",
    "print(card)"
   ]
  },
  {
   "cell_type": "markdown",
   "metadata": {},
   "source": [
    "Using %s and %d \n"
   ]
  },
  {
   "cell_type": "markdown",
   "metadata": {},
   "source": [
    "%d = Ye integer values (whole numbers) ke liye use hota hai.\n",
    "\n",
    "%s = Ye strings (text values) ke liye use hota hai. Yeh kisi bhi data type ko string mein convert kar sakta hai"
   ]
  },
  {
   "cell_type": "code",
   "execution_count": 11,
   "metadata": {},
   "outputs": [
    {
     "name": "stdout",
     "output_type": "stream",
     "text": [
      "Student ID card \n",
      "Student name=Muhammad Zain\n",
      "fathername =Muhammad\n",
      "education =Photographer\n",
      "age =18\n",
      "\n"
     ]
    }
   ],
   "source": [
    "studentname : str = \"Muhammad Zain\"\n",
    "fathername : str = \"Muhammad\"\n",
    "education : str = \"Photographer\"\n",
    "age : int = 18\n",
    "\n",
    "card : str = f\"\"\"Student ID card \n",
    "Student name=%s\n",
    "fathername =%s\n",
    "education =%s\n",
    "age =%d\n",
    "\"\"\"%(studentname,fathername,education,age)\n",
    "print(card)"
   ]
  },
  {
   "cell_type": "markdown",
   "metadata": {},
   "source": [
    "for all methods of string"
   ]
  },
  {
   "cell_type": "code",
   "execution_count": 12,
   "metadata": {},
   "outputs": [
    {
     "data": {
      "text/plain": [
       "['capitalize',\n",
       " 'casefold',\n",
       " 'center',\n",
       " 'count',\n",
       " 'encode',\n",
       " 'endswith',\n",
       " 'expandtabs',\n",
       " 'find',\n",
       " 'format',\n",
       " 'index',\n",
       " 'isalnum',\n",
       " 'isalpha',\n",
       " 'isascii',\n",
       " 'isdecimal',\n",
       " 'isdigit',\n",
       " 'isidentifier',\n",
       " 'islower',\n",
       " 'isnumeric',\n",
       " 'isprintable',\n",
       " 'isspace',\n",
       " 'istitle',\n",
       " 'isupper',\n",
       " 'join',\n",
       " 'ljust',\n",
       " 'lower',\n",
       " 'lstrip',\n",
       " 'maketrans',\n",
       " 'partition',\n",
       " 'removeprefix',\n",
       " 'removesuffix',\n",
       " 'replace',\n",
       " 'rfind',\n",
       " 'rindex',\n",
       " 'rjust',\n",
       " 'rpartition',\n",
       " 'rsplit',\n",
       " 'rstrip',\n",
       " 'split',\n",
       " 'splitlines',\n",
       " 'startswith',\n",
       " 'strip',\n",
       " 'swapcase',\n",
       " 'title',\n",
       " 'translate',\n",
       " 'upper',\n",
       " 'zfill']"
      ]
     },
     "execution_count": 12,
     "metadata": {},
     "output_type": "execute_result"
    }
   ],
   "source": [
    "[i for i in dir(str) if\"_\" not in i]"
   ]
  },
  {
   "cell_type": "markdown",
   "metadata": {},
   "source": [
    "Using method "
   ]
  },
  {
   "cell_type": "code",
   "execution_count": 13,
   "metadata": {},
   "outputs": [
    {
     "name": "stdout",
     "output_type": "stream",
     "text": [
      "Muhammad zain\n"
     ]
    }
   ],
   "source": [
    "name : str = \"MuHaMmAd ZaIn\"\n",
    "print(name.capitalize())"
   ]
  },
  {
   "cell_type": "markdown",
   "metadata": {},
   "source": [
    ".formate code 1"
   ]
  },
  {
   "cell_type": "code",
   "execution_count": 14,
   "metadata": {},
   "outputs": [
    {
     "name": "stdout",
     "output_type": "stream",
     "text": [
      "Pakistan value a = 7 and value b = 8\n"
     ]
    }
   ],
   "source": [
    "a = 7\n",
    "b = 8\n",
    "#  {} place holder \n",
    "result=\"Pakistan value a = {} and value b = {}\".format(a,b)\n",
    "print(result)"
   ]
  },
  {
   "cell_type": "markdown",
   "metadata": {},
   "source": [
    ".format code 2\n"
   ]
  },
  {
   "cell_type": "code",
   "execution_count": 15,
   "metadata": {},
   "outputs": [
    {
     "name": "stdout",
     "output_type": "stream",
     "text": [
      "\n",
      "Student ID card \n",
      "Student name : Muhammad Zain\n",
      "fathername : Muhammad\n",
      "Education = Photographer\n",
      "Age =18\n",
      "\n",
      "\n"
     ]
    }
   ],
   "source": [
    "name : str = \"Muhammad Zain\"\n",
    "fname : str = \"Muhammad\"\n",
    "education : str = \"Photographer\"\n",
    "age : int = 18\n",
    "\n",
    "card : str = \"\"\"\n",
    "Student ID card \n",
    "Student name : {a}\n",
    "fathername : {b}\n",
    "Education = {c}\n",
    "Age ={d}\n",
    "\n",
    "\"\"\".format(a=name, b=fname, c=education, d=age)\n",
    "print(card)"
   ]
  },
  {
   "cell_type": "markdown",
   "metadata": {},
   "source": [
    "Method"
   ]
  },
  {
   "cell_type": "code",
   "execution_count": 16,
   "metadata": {},
   "outputs": [
    {
     "name": "stdout",
     "output_type": "stream",
     "text": [
      "Muhammad zain\n",
      "Muhammad Zain\n"
     ]
    }
   ],
   "source": [
    "name : str = \"MuHaMmAd ZaIn\"\n",
    "#vereable_name.method()\n",
    "print(name.capitalize())\n",
    "print(name.title())\n"
   ]
  },
  {
   "cell_type": "markdown",
   "metadata": {},
   "source": [
    "Practice "
   ]
  },
  {
   "cell_type": "markdown",
   "metadata": {},
   "source": [
    "1. Capitalize Each Word\n",
    "Write a program to capitalize the first letter of each word in a given sentence."
   ]
  },
  {
   "cell_type": "code",
   "execution_count": 17,
   "metadata": {},
   "outputs": [
    {
     "name": "stdout",
     "output_type": "stream",
     "text": [
      "M zain ul abideen\n"
     ]
    }
   ],
   "source": [
    "name : str = \"m ZaIn uL aBiDeEn\"\n",
    "print(name.capitalize())"
   ]
  },
  {
   "cell_type": "markdown",
   "metadata": {},
   "source": [
    "2. Remove Whitespace\n",
    "Write a program to remove all leading, trailing, and extra spaces in a string.\n",
    "Example: \"  Hello    World  \" → \"Hello World\"\n",
    "\n"
   ]
  },
  {
   "cell_type": "code",
   "execution_count": 18,
   "metadata": {},
   "outputs": [
    {
     "name": "stdout",
     "output_type": "stream",
     "text": [
      "Hello World\n"
     ]
    }
   ],
   "source": [
    "name : str  = \"Hello                World\"\n",
    "result = \" \". join(name.split())\n",
    "print(result)"
   ]
  },
  {
   "cell_type": "markdown",
   "metadata": {},
   "source": [
    "3. Check Prefix or Suffix\n",
    "Write a program to check if a given string starts with or ends with a specific substring.\n"
   ]
  },
  {
   "cell_type": "code",
   "execution_count": 19,
   "metadata": {},
   "outputs": [
    {
     "name": "stdout",
     "output_type": "stream",
     "text": [
      "hello world\n"
     ]
    }
   ],
   "source": [
    "text =  \"hello world\"\n",
    "result = (text.removeprefix(\"\"))\n",
    "print(result)"
   ]
  },
  {
   "cell_type": "markdown",
   "metadata": {},
   "source": [
    "4. Count Occurrences\n",
    "Write a program to count how many times a specific substring appears in a string.\n"
   ]
  },
  {
   "cell_type": "code",
   "execution_count": 20,
   "metadata": {},
   "outputs": [
    {
     "name": "stdout",
     "output_type": "stream",
     "text": [
      "1\n"
     ]
    }
   ],
   "source": [
    "data=  \"\"\" M Zain Ul Abideen and\" 'I'm 18  year old' , 'Now i learn how to become a good man' 'as a father,brother' 'i have 2 wife '\"\"\"\n",
    "specific_int = \"father\"\n",
    "result = data.count(specific_int)\n",
    "print(result)"
   ]
  },
  {
   "cell_type": "markdown",
   "metadata": {},
   "source": [
    "5. Replace Substring\n",
    "Write a program to replace all occurrences of a substring in a string with another substring."
   ]
  },
  {
   "cell_type": "code",
   "execution_count": 21,
   "metadata": {},
   "outputs": [
    {
     "name": "stdout",
     "output_type": "stream",
     "text": [
      "I hope i do product,Photographer\n"
     ]
    }
   ],
   "source": [
    "name : str = \"I hope i do portrait,Photographer\"\n",
    "Target_substing = \"portrait\"\n",
    "replacement_substring = \"product\"\n",
    "result = name.replace(Target_substing,replacement_substring)\n",
    "print(result)"
   ]
  },
  {
   "cell_type": "markdown",
   "metadata": {},
   "source": [
    "6. Check for Digits\n",
    "Write a program to check if a given string contains only numeric characters.\n"
   ]
  },
  {
   "cell_type": "code",
   "execution_count": 22,
   "metadata": {},
   "outputs": [
    {
     "name": "stdout",
     "output_type": "stream",
     "text": [
      "False\n"
     ]
    }
   ],
   "source": [
    "number : str =\"123a456f78g-9\"\n",
    "numeric = name \n",
    "num_check = number.isdigit()\n",
    "print(num_check)"
   ]
  },
  {
   "cell_type": "markdown",
   "metadata": {},
   "source": [
    "7. Convert Case\n",
    "Write a program to convert a string to lowercase, uppercase, and title case (first letter of each word capitalized).\n",
    "\n"
   ]
  },
  {
   "cell_type": "code",
   "execution_count": 23,
   "metadata": {},
   "outputs": [
    {
     "name": "stdout",
     "output_type": "stream",
     "text": [
      "('M zain ul abdeen', 'm zain ul abdeen', 'M ZAIN UL ABDEEN', 'M Zain Ul Abdeen')\n"
     ]
    }
   ],
   "source": [
    "name : str = \"M ZaIn Ul aBdEeN\"\n",
    "result = (name.capitalize()),(name.lower()),(name.upper()),(name.title())\n",
    "print(result)\n"
   ]
  },
  {
   "cell_type": "markdown",
   "metadata": {},
   "source": [
    "8. Split and Join\n",
    "Write a program to split a sentence into words and then join them back with a different delimiter (e.g., -).\n",
    "\n"
   ]
  },
  {
   "cell_type": "code",
   "execution_count": 24,
   "metadata": {},
   "outputs": [
    {
     "name": "stdout",
     "output_type": "stream",
     "text": [
      "['I', 'love', 'python']\n",
      "I love python\n"
     ]
    }
   ],
   "source": [
    "veriable : str = \"I love python\"\n",
    "result1= veriable.split()\n",
    "print(result1)\n",
    "result2 = \"\".join(veriable)\n",
    "\n",
    "print(result2)"
   ]
  },
  {
   "cell_type": "markdown",
   "metadata": {},
   "source": [
    "9. Remove Special Characters\n",
    "Write a program to remove all special characters (like @, #, $, %) from a string.\n"
   ]
  },
  {
   "cell_type": "code",
   "execution_count": 25,
   "metadata": {},
   "outputs": [
    {
     "name": "stdout",
     "output_type": "stream",
     "text": [
      "ismezain2050$gmail.com\n"
     ]
    }
   ],
   "source": [
    "email : str = \"ismezain2050@gmail.com\"\n",
    "result = email.replace(\"@\",\"$\")\n",
    "print(result)"
   ]
  },
  {
   "cell_type": "markdown",
   "metadata": {},
   "source": [
    "10. Find Maximum Character\n",
    "Write a program to find the character that appears the most in a given string.\n",
    "\n"
   ]
  },
  {
   "cell_type": "code",
   "execution_count": 26,
   "metadata": {},
   "outputs": [
    {
     "name": "stdout",
     "output_type": "stream",
     "text": [
      "2\n"
     ]
    }
   ],
   "source": [
    "name : str = \"heyy man what's up?\"\n",
    "result = name.count(\"y\")\n",
    "print(result)"
   ]
  },
  {
   "cell_type": "markdown",
   "metadata": {},
   "source": [
    "**Type Conversison**"
   ]
  },
  {
   "cell_type": "code",
   "execution_count": 27,
   "metadata": {},
   "outputs": [
    {
     "name": "stdout",
     "output_type": "stream",
     "text": [
      "11.05\n"
     ]
    }
   ],
   "source": [
    "a : int = 9 # int change into float\n",
    "b : float = 2.05\n",
    "print(a + b)"
   ]
  },
  {
   "cell_type": "code",
   "execution_count": 1,
   "metadata": {},
   "outputs": [
    {
     "name": "stdout",
     "output_type": "stream",
     "text": [
      "31\n"
     ]
    }
   ],
   "source": [
    "a = 31 # int change into str it's not possible but i did it\n",
    "a1 = str(a)\n",
    "print(a1)"
   ]
  },
  {
   "cell_type": "markdown",
   "metadata": {},
   "source": [
    "**Checking Str Lenght**"
   ]
  },
  {
   "cell_type": "code",
   "execution_count": 3,
   "metadata": {},
   "outputs": [
    {
     "name": "stdout",
     "output_type": "stream",
     "text": [
      "4\n"
     ]
    }
   ],
   "source": [
    "str = \"apna\"\n",
    "len1 = (len(str))\n",
    "print(len1)"
   ]
  },
  {
   "cell_type": "markdown",
   "metadata": {},
   "source": [
    "**Indexing**"
   ]
  },
  {
   "cell_type": "code",
   "execution_count": 4,
   "metadata": {},
   "outputs": [
    {
     "name": "stdout",
     "output_type": "stream",
     "text": [
      "u\n"
     ]
    }
   ],
   "source": [
    "str = \"zain ul abideen\"\n",
    "ch = str[5]\n",
    "print(ch)"
   ]
  },
  {
   "cell_type": "markdown",
   "metadata": {},
   "source": [
    "**Slicing** positive indexing \n"
   ]
  },
  {
   "cell_type": "code",
   "execution_count": 5,
   "metadata": {},
   "outputs": [
    {
     "name": "stdout",
     "output_type": "stream",
     "text": [
      "Zain \n"
     ]
    }
   ],
   "source": [
    "str = \"Zain ul abideen\"\n",
    "print(str[0 : 5])"
   ]
  },
  {
   "cell_type": "code",
   "execution_count": 6,
   "metadata": {},
   "outputs": [
    {
     "name": "stdout",
     "output_type": "stream",
     "text": [
      "abideen\n"
     ]
    }
   ],
   "source": [
    "str = \"Zain ul abideen\"\n",
    "print(str[8 : len(str)])"
   ]
  },
  {
   "cell_type": "markdown",
   "metadata": {},
   "source": [
    "**Slicing** nagitive indexing \n"
   ]
  },
  {
   "cell_type": "code",
   "execution_count": 29,
   "metadata": {},
   "outputs": [
    {
     "name": "stdout",
     "output_type": "stream",
     "text": [
      "idee\n"
     ]
    }
   ],
   "source": [
    "str = \"Zain ul abideen\"\n",
    "print(str[-5 : -1])"
   ]
  }
 ],
 "metadata": {
  "kernelspec": {
   "display_name": "Python 3",
   "language": "python",
   "name": "python3"
  },
  "language_info": {
   "codemirror_mode": {
    "name": "ipython",
    "version": 3
   },
   "file_extension": ".py",
   "mimetype": "text/x-python",
   "name": "python",
   "nbconvert_exporter": "python",
   "pygments_lexer": "ipython3",
   "version": "3.13.1"
  }
 },
 "nbformat": 4,
 "nbformat_minor": 2
}
